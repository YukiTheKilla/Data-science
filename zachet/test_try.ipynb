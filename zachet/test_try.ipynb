{
 "cells": [
  {
   "cell_type": "code",
   "execution_count": 1,
   "metadata": {},
   "outputs": [],
   "source": [
    "import os\n",
    "os.environ['KMP_DUPLICATE_LIB_OK'] = 'TRUE'\n"
   ]
  },
  {
   "cell_type": "code",
   "execution_count": 2,
   "metadata": {},
   "outputs": [],
   "source": [
    "import numpy as np\n",
    "import pandas as pd \n",
    "from PIL import Image\n",
    "from PIL import ImageFile \n",
    "import matplotlib.pyplot as plt \n",
    "import torch \n",
    "from torch import nn, optim\n",
    "import torch.nn.functional as F\n",
    "from tqdm import tqdm \n",
    "from IPython.display import clear_output \n",
    "import warnings \n",
    "from pathlib import Path\n",
    "import torch\n",
    "import torchvision\n",
    "import torchvision.transforms as transforms\n",
    "from torch.utils.data import TensorDataset, DataLoader\n",
    "from sklearn.preprocessing import LabelEncoder\n",
    "from sklearn.model_selection import train_test_split\n",
    "from sklearn.metrics import confusion_matrix\n",
    "import seaborn as sns\n",
    "import os\n",
    "from pathlib import Path\n",
    "from PIL import Image\n",
    "import numpy as np\n",
    "from IPython.display import clear_output\n",
    "import random\n",
    "\n",
    "warnings.filterwarnings(\"ignore\")"
   ]
  },
  {
   "cell_type": "code",
   "execution_count": 3,
   "metadata": {},
   "outputs": [
    {
     "name": "stdout",
     "output_type": "stream",
     "text": [
      "Using device: cpu\n"
     ]
    }
   ],
   "source": [
    "# setting device on GPU if available, else CPU\n",
    "device = torch.device('cuda' if torch.cuda.is_available() else 'cpu')\n",
    "print('Using device:', device)"
   ]
  },
  {
   "cell_type": "code",
   "execution_count": 4,
   "metadata": {},
   "outputs": [],
   "source": [
    "data_path = Path(r'/Users/yuki/Documents/GitHub/datasets/messor')"
   ]
  },
  {
   "cell_type": "code",
   "execution_count": 5,
   "metadata": {},
   "outputs": [],
   "source": [
    "ImageFile.LOAD_TRUNCATED_IMAGES = True"
   ]
  },
  {
   "cell_type": "code",
   "execution_count": 6,
   "metadata": {},
   "outputs": [],
   "source": [
    "def print_history(history, title):\n",
    "    plt.figure(figsize=(7, 4))\n",
    "    plt.plot(history)\n",
    "    plt.title(title)\n",
    "    plt.ylabel('Accuracy')\n",
    "    plt.xlabel('Epoch')"
   ]
  },
  {
   "cell_type": "code",
   "execution_count": 7,
   "metadata": {},
   "outputs": [],
   "source": [
    "\n",
    "\n",
    "def load_images_to_memory(data_path):\n",
    "    images = []\n",
    "    labels = []\n",
    "    \n",
    "    data_path = Path(data_path)  # Ensure data_path is a Path object\n",
    "    \n",
    "    # Iterate through folders in data_path\n",
    "    for folder_name in os.listdir(data_path):\n",
    "        folder_path = data_path / folder_name\n",
    "        \n",
    "        # Skip if not a directory\n",
    "        if not folder_path.is_dir():\n",
    "            continue\n",
    "        \n",
    "        # Iterate through image files in the folder\n",
    "        for img_name in os.listdir(folder_path):\n",
    "            img_path = folder_path / img_name\n",
    "            \n",
    "            # Skip if not a valid image file\n",
    "            if not img_path.is_file():\n",
    "                continue\n",
    "            \n",
    "            clear_output()\n",
    "            print(f\"Loading image: {img_path}\")\n",
    "            \n",
    "            try:\n",
    "                img = Image.open(img_path).convert('RGB')\n",
    "                img = img.resize((96, 96))\n",
    "                img = np.array(img)\n",
    "                images.append(img)\n",
    "                labels.append(folder_name)\n",
    "            except Exception as e:\n",
    "                print(f\"Error loading {img_path}: {e}\")\n",
    "    \n",
    "    return np.array(images), np.array(labels)"
   ]
  },
  {
   "cell_type": "code",
   "execution_count": 8,
   "metadata": {},
   "outputs": [
    {
     "name": "stdout",
     "output_type": "stream",
     "text": [
      "Loading image: /Users/yuki/Documents/GitHub/datasets/messor/structor/136132254.jpg\n"
     ]
    }
   ],
   "source": [
    "images, labels = load_images_to_memory(data_path)\n",
    "images = images / 255.0"
   ]
  },
  {
   "cell_type": "code",
   "execution_count": 9,
   "metadata": {},
   "outputs": [
    {
     "data": {
      "text/plain": [
       "array([[[[0.68627451, 0.69019608, 0.69803922],\n",
       "         [0.60392157, 0.60392157, 0.58823529],\n",
       "         [0.50980392, 0.50588235, 0.49803922],\n",
       "         ...,\n",
       "         [0.54901961, 0.54509804, 0.5372549 ],\n",
       "         [0.50980392, 0.50196078, 0.49411765],\n",
       "         [0.45098039, 0.44705882, 0.41176471]],\n",
       "\n",
       "        [[0.57254902, 0.57647059, 0.55294118],\n",
       "         [0.56470588, 0.55294118, 0.51764706],\n",
       "         [0.54117647, 0.52941176, 0.51764706],\n",
       "         ...,\n",
       "         [0.48627451, 0.48235294, 0.49411765],\n",
       "         [0.40392157, 0.40392157, 0.42745098],\n",
       "         [0.36862745, 0.36862745, 0.36862745]],\n",
       "\n",
       "        [[0.50196078, 0.49803922, 0.50588235],\n",
       "         [0.47058824, 0.47058824, 0.4745098 ],\n",
       "         [0.5372549 , 0.52941176, 0.5372549 ],\n",
       "         ...,\n",
       "         [0.50588235, 0.50980392, 0.52941176],\n",
       "         [0.5254902 , 0.52941176, 0.55686275],\n",
       "         [0.4745098 , 0.47058824, 0.48235294]],\n",
       "\n",
       "        ...,\n",
       "\n",
       "        [[0.4745098 , 0.47058824, 0.4745098 ],\n",
       "         [0.29803922, 0.28627451, 0.30588235],\n",
       "         [0.45098039, 0.44313725, 0.47843137],\n",
       "         ...,\n",
       "         [0.46666667, 0.45882353, 0.4627451 ],\n",
       "         [0.36078431, 0.35294118, 0.35294118],\n",
       "         [0.39215686, 0.38431373, 0.38823529]],\n",
       "\n",
       "        [[0.32941176, 0.32941176, 0.32941176],\n",
       "         [0.32156863, 0.31372549, 0.31372549],\n",
       "         [0.41960784, 0.41176471, 0.40784314],\n",
       "         ...,\n",
       "         [0.36470588, 0.35294118, 0.36078431],\n",
       "         [0.36470588, 0.35686275, 0.35294118],\n",
       "         [0.34117647, 0.33333333, 0.34117647]],\n",
       "\n",
       "        [[0.35686275, 0.35686275, 0.34117647],\n",
       "         [0.34901961, 0.34509804, 0.36862745],\n",
       "         [0.51764706, 0.51764706, 0.52941176],\n",
       "         ...,\n",
       "         [0.41960784, 0.40392157, 0.39215686],\n",
       "         [0.43921569, 0.43921569, 0.43921569],\n",
       "         [0.36078431, 0.35686275, 0.36470588]]],\n",
       "\n",
       "\n",
       "       [[[0.30980392, 0.30196078, 0.24313725],\n",
       "         [0.30196078, 0.30196078, 0.24705882],\n",
       "         [0.30588235, 0.29803922, 0.23921569],\n",
       "         ...,\n",
       "         [0.26666667, 0.27058824, 0.21176471],\n",
       "         [0.2627451 , 0.26666667, 0.21176471],\n",
       "         [0.2627451 , 0.26666667, 0.21176471]],\n",
       "\n",
       "        [[0.31372549, 0.30980392, 0.25098039],\n",
       "         [0.30980392, 0.30588235, 0.25490196],\n",
       "         [0.30588235, 0.30196078, 0.24705882],\n",
       "         ...,\n",
       "         [0.2745098 , 0.2745098 , 0.21960784],\n",
       "         [0.27058824, 0.27058824, 0.21568627],\n",
       "         [0.2745098 , 0.26666667, 0.21568627]],\n",
       "\n",
       "        [[0.31764706, 0.30980392, 0.25882353],\n",
       "         [0.31764706, 0.30980392, 0.25882353],\n",
       "         [0.31372549, 0.30588235, 0.25490196],\n",
       "         ...,\n",
       "         [0.29019608, 0.28235294, 0.23137255],\n",
       "         [0.29019608, 0.28235294, 0.22745098],\n",
       "         [0.28627451, 0.28235294, 0.22745098]],\n",
       "\n",
       "        ...,\n",
       "\n",
       "        [[0.35686275, 0.45098039, 0.17647059],\n",
       "         [0.3372549 , 0.43137255, 0.15294118],\n",
       "         [0.30980392, 0.41568627, 0.14117647],\n",
       "         ...,\n",
       "         [0.73333333, 0.74117647, 0.66666667],\n",
       "         [0.74901961, 0.74901961, 0.66666667],\n",
       "         [0.74117647, 0.74117647, 0.65490196]],\n",
       "\n",
       "        [[0.35294118, 0.47058824, 0.22745098],\n",
       "         [0.39215686, 0.49019608, 0.23137255],\n",
       "         [0.41176471, 0.52156863, 0.25098039],\n",
       "         ...,\n",
       "         [0.7372549 , 0.74117647, 0.6627451 ],\n",
       "         [0.75294118, 0.76078431, 0.6745098 ],\n",
       "         [0.76470588, 0.76470588, 0.68235294]],\n",
       "\n",
       "        [[0.36078431, 0.49411765, 0.2745098 ],\n",
       "         [0.34901961, 0.47843137, 0.25490196],\n",
       "         [0.39215686, 0.5254902 , 0.29019608],\n",
       "         ...,\n",
       "         [0.72941176, 0.73333333, 0.65098039],\n",
       "         [0.75294118, 0.75294118, 0.66666667],\n",
       "         [0.77254902, 0.76862745, 0.68627451]]],\n",
       "\n",
       "\n",
       "       [[[0.61568627, 0.54509804, 0.50196078],\n",
       "         [0.57647059, 0.50588235, 0.4627451 ],\n",
       "         [0.53333333, 0.46666667, 0.42745098],\n",
       "         ...,\n",
       "         [0.34509804, 0.23921569, 0.2       ],\n",
       "         [0.42745098, 0.32156863, 0.28627451],\n",
       "         [0.39607843, 0.3254902 , 0.29019608]],\n",
       "\n",
       "        [[0.58823529, 0.52941176, 0.48235294],\n",
       "         [0.54509804, 0.49019608, 0.44705882],\n",
       "         [0.4745098 , 0.41960784, 0.38823529],\n",
       "         ...,\n",
       "         [0.50588235, 0.39607843, 0.35294118],\n",
       "         [0.40392157, 0.31372549, 0.28235294],\n",
       "         [0.44313725, 0.36470588, 0.33333333]],\n",
       "\n",
       "        [[0.5254902 , 0.4627451 , 0.42352941],\n",
       "         [0.49019608, 0.42745098, 0.38823529],\n",
       "         [0.50196078, 0.43921569, 0.39607843],\n",
       "         ...,\n",
       "         [0.60392157, 0.50196078, 0.44705882],\n",
       "         [0.58039216, 0.47058824, 0.42745098],\n",
       "         [0.63921569, 0.50980392, 0.4627451 ]],\n",
       "\n",
       "        ...,\n",
       "\n",
       "        [[0.45490196, 0.4       , 0.36470588],\n",
       "         [0.32941176, 0.27058824, 0.23529412],\n",
       "         [0.35686275, 0.28627451, 0.25098039],\n",
       "         ...,\n",
       "         [0.58431373, 0.44705882, 0.38823529],\n",
       "         [0.63137255, 0.48627451, 0.41960784],\n",
       "         [0.63137255, 0.50980392, 0.45882353]],\n",
       "\n",
       "        [[0.48627451, 0.41568627, 0.37647059],\n",
       "         [0.45882353, 0.39215686, 0.35294118],\n",
       "         [0.40784314, 0.34901961, 0.31764706],\n",
       "         ...,\n",
       "         [0.59215686, 0.49411765, 0.45490196],\n",
       "         [0.50196078, 0.40392157, 0.35686275],\n",
       "         [0.70588235, 0.58431373, 0.52156863]],\n",
       "\n",
       "        [[0.34117647, 0.2627451 , 0.22352941],\n",
       "         [0.39607843, 0.3254902 , 0.29411765],\n",
       "         [0.2745098 , 0.21568627, 0.18431373],\n",
       "         ...,\n",
       "         [0.58823529, 0.4745098 , 0.42745098],\n",
       "         [0.44313725, 0.36078431, 0.32156863],\n",
       "         [0.42745098, 0.34117647, 0.29411765]]],\n",
       "\n",
       "\n",
       "       ...,\n",
       "\n",
       "\n",
       "       [[[0.75686275, 0.70196078, 0.6627451 ],\n",
       "         [0.75686275, 0.70196078, 0.66666667],\n",
       "         [0.75686275, 0.70588235, 0.66666667],\n",
       "         ...,\n",
       "         [0.74117647, 0.69019608, 0.65098039],\n",
       "         [0.74509804, 0.69411765, 0.64705882],\n",
       "         [0.73333333, 0.67843137, 0.63137255]],\n",
       "\n",
       "        [[0.76078431, 0.70980392, 0.66666667],\n",
       "         [0.75686275, 0.70980392, 0.6745098 ],\n",
       "         [0.74901961, 0.70980392, 0.67058824],\n",
       "         ...,\n",
       "         [0.74117647, 0.69019608, 0.65098039],\n",
       "         [0.74117647, 0.69019608, 0.64705882],\n",
       "         [0.73333333, 0.67843137, 0.63529412]],\n",
       "\n",
       "        [[0.74509804, 0.70196078, 0.65882353],\n",
       "         [0.74901961, 0.70980392, 0.67058824],\n",
       "         [0.74117647, 0.70588235, 0.66666667],\n",
       "         ...,\n",
       "         [0.73333333, 0.68235294, 0.64313725],\n",
       "         [0.7372549 , 0.68235294, 0.63921569],\n",
       "         [0.7372549 , 0.67843137, 0.63529412]],\n",
       "\n",
       "        ...,\n",
       "\n",
       "        [[0.72941176, 0.6745098 , 0.63921569],\n",
       "         [0.73333333, 0.68627451, 0.65098039],\n",
       "         [0.7372549 , 0.69019608, 0.65490196],\n",
       "         ...,\n",
       "         [0.20392157, 0.19607843, 0.21568627],\n",
       "         [0.21960784, 0.20392157, 0.22352941],\n",
       "         [0.2       , 0.18431373, 0.19607843]],\n",
       "\n",
       "        [[0.7254902 , 0.68235294, 0.63921569],\n",
       "         [0.74509804, 0.69019608, 0.65490196],\n",
       "         [0.74901961, 0.70588235, 0.6627451 ],\n",
       "         ...,\n",
       "         [0.20784314, 0.2       , 0.21960784],\n",
       "         [0.21960784, 0.21176471, 0.22745098],\n",
       "         [0.23921569, 0.23137255, 0.24313725]],\n",
       "\n",
       "        [[0.72156863, 0.67843137, 0.63137255],\n",
       "         [0.74509804, 0.69019608, 0.65490196],\n",
       "         [0.76078431, 0.71764706, 0.67058824],\n",
       "         ...,\n",
       "         [0.23137255, 0.22352941, 0.23921569],\n",
       "         [0.25882353, 0.25098039, 0.25882353],\n",
       "         [0.30980392, 0.30196078, 0.30196078]]],\n",
       "\n",
       "\n",
       "       [[[0.65490196, 0.61176471, 0.45882353],\n",
       "         [0.52941176, 0.43921569, 0.24705882],\n",
       "         [0.46666667, 0.37647059, 0.22352941],\n",
       "         ...,\n",
       "         [0.63529412, 0.54117647, 0.36862745],\n",
       "         [0.61960784, 0.52941176, 0.35686275],\n",
       "         [0.63529412, 0.56078431, 0.38823529]],\n",
       "\n",
       "        [[0.68627451, 0.65490196, 0.52941176],\n",
       "         [0.5254902 , 0.44313725, 0.24705882],\n",
       "         [0.41960784, 0.33333333, 0.17647059],\n",
       "         ...,\n",
       "         [0.62352941, 0.54509804, 0.36862745],\n",
       "         [0.60784314, 0.53333333, 0.37254902],\n",
       "         [0.62352941, 0.55686275, 0.41176471]],\n",
       "\n",
       "        [[0.71764706, 0.70196078, 0.60784314],\n",
       "         [0.5372549 , 0.45882353, 0.25098039],\n",
       "         [0.34117647, 0.25882353, 0.08627451],\n",
       "         ...,\n",
       "         [0.6627451 , 0.58823529, 0.43529412],\n",
       "         [0.64705882, 0.58039216, 0.45098039],\n",
       "         [0.60784314, 0.54901961, 0.41568627]],\n",
       "\n",
       "        ...,\n",
       "\n",
       "        [[0.73333333, 0.71764706, 0.61568627],\n",
       "         [0.73333333, 0.6745098 , 0.50980392],\n",
       "         [0.68627451, 0.6       , 0.42352941],\n",
       "         ...,\n",
       "         [0.53333333, 0.43529412, 0.30196078],\n",
       "         [0.49019608, 0.41568627, 0.27843137],\n",
       "         [0.61568627, 0.54117647, 0.36470588]],\n",
       "\n",
       "        [[0.60392157, 0.59607843, 0.55294118],\n",
       "         [0.74901961, 0.71764706, 0.57647059],\n",
       "         [0.70980392, 0.64313725, 0.48627451],\n",
       "         ...,\n",
       "         [0.56470588, 0.49019608, 0.32156863],\n",
       "         [0.53333333, 0.45490196, 0.29411765],\n",
       "         [0.54509804, 0.49803922, 0.4       ]],\n",
       "\n",
       "        [[0.49411765, 0.46666667, 0.42745098],\n",
       "         [0.71764706, 0.69411765, 0.59215686],\n",
       "         [0.75686275, 0.70196078, 0.53333333],\n",
       "         ...,\n",
       "         [0.61176471, 0.54901961, 0.38039216],\n",
       "         [0.50588235, 0.45098039, 0.30196078],\n",
       "         [0.47058824, 0.43921569, 0.34509804]]],\n",
       "\n",
       "\n",
       "       [[[0.85098039, 0.85098039, 0.84313725],\n",
       "         [0.68235294, 0.68235294, 0.6745098 ],\n",
       "         [0.68235294, 0.68235294, 0.6745098 ],\n",
       "         ...,\n",
       "         [0.84313725, 0.78431373, 0.69019608],\n",
       "         [0.7372549 , 0.6745098 , 0.60392157],\n",
       "         [0.59607843, 0.53333333, 0.4745098 ]],\n",
       "\n",
       "        [[0.6       , 0.59607843, 0.58431373],\n",
       "         [0.51764706, 0.51372549, 0.50196078],\n",
       "         [0.54901961, 0.54901961, 0.5372549 ],\n",
       "         ...,\n",
       "         [0.84705882, 0.78823529, 0.69019608],\n",
       "         [0.63137255, 0.57254902, 0.49019608],\n",
       "         [0.50588235, 0.44313725, 0.38039216]],\n",
       "\n",
       "        [[0.24705882, 0.23921569, 0.21960784],\n",
       "         [0.59607843, 0.58431373, 0.56470588],\n",
       "         [0.70980392, 0.70196078, 0.68235294],\n",
       "         ...,\n",
       "         [0.90196078, 0.83921569, 0.73333333],\n",
       "         [0.83137255, 0.77254902, 0.6745098 ],\n",
       "         [0.70588235, 0.64313725, 0.56078431]],\n",
       "\n",
       "        ...,\n",
       "\n",
       "        [[0.43921569, 0.42352941, 0.40392157],\n",
       "         [0.40784314, 0.39215686, 0.37254902],\n",
       "         [0.41176471, 0.39607843, 0.37647059],\n",
       "         ...,\n",
       "         [0.63137255, 0.63137255, 0.61176471],\n",
       "         [0.49019608, 0.49803922, 0.47843137],\n",
       "         [0.46666667, 0.47058824, 0.45098039]],\n",
       "\n",
       "        [[0.49411765, 0.47058824, 0.45490196],\n",
       "         [0.50980392, 0.49019608, 0.4745098 ],\n",
       "         [0.49411765, 0.4745098 , 0.45882353],\n",
       "         ...,\n",
       "         [0.49411765, 0.49411765, 0.47843137],\n",
       "         [0.45882353, 0.4627451 , 0.44313725],\n",
       "         [0.5372549 , 0.54117647, 0.52156863]],\n",
       "\n",
       "        [[0.51372549, 0.49411765, 0.47843137],\n",
       "         [0.53333333, 0.51372549, 0.49803922],\n",
       "         [0.55686275, 0.5372549 , 0.52156863],\n",
       "         ...,\n",
       "         [0.51764706, 0.51764706, 0.50196078],\n",
       "         [0.52156863, 0.5254902 , 0.50588235],\n",
       "         [0.51764706, 0.52156863, 0.50196078]]]])"
      ]
     },
     "execution_count": 9,
     "metadata": {},
     "output_type": "execute_result"
    }
   ],
   "source": [
    "images"
   ]
  },
  {
   "cell_type": "code",
   "execution_count": 10,
   "metadata": {},
   "outputs": [],
   "source": [
    "np.random.seed(3)"
   ]
  },
  {
   "cell_type": "code",
   "execution_count": 11,
   "metadata": {},
   "outputs": [],
   "source": [
    "\n",
    "img_transforms = transforms.Compose([\n",
    "#    transforms.ToTensor(),\n",
    "    transforms.Normalize(0.13, 0.31)])\n",
    "\n",
    "label_encoder = LabelEncoder()\n",
    "e_labels = label_encoder.fit_transform(labels)\n",
    "\n",
    "X_train, X_test, y_train, y_test = train_test_split(images, e_labels, test_size=0.2, random_state=42)\n",
    "\n",
    "print\n",
    "def get_dataset(X, y):\n",
    "    tensor_x = torch.Tensor(X) # transform to torch tensor\n",
    "    #tensor_x = img_transforms(tensor_x)\n",
    "    tensor_y = torch.Tensor(y).long()\n",
    "\n",
    "    dataset = TensorDataset(tensor_x,tensor_y)\n",
    "    return dataset\n",
    "\n",
    "train_dataset = get_dataset(X_train, y_train)\n",
    "test_dataset = get_dataset(X_test, y_test)"
   ]
  },
  {
   "cell_type": "code",
   "execution_count": 12,
   "metadata": {},
   "outputs": [],
   "source": [
    "\n",
    "del images"
   ]
  },
  {
   "cell_type": "code",
   "execution_count": 13,
   "metadata": {},
   "outputs": [
    {
     "name": "stdout",
     "output_type": "stream",
     "text": [
      "396\n",
      "99\n"
     ]
    }
   ],
   "source": [
    "print(len(train_dataset))\n",
    "print(len(test_dataset))"
   ]
  },
  {
   "cell_type": "code",
   "execution_count": 14,
   "metadata": {},
   "outputs": [],
   "source": [
    "class_names = ['structor','muticus','denticulatus']\n"
   ]
  },
  {
   "cell_type": "code",
   "execution_count": 15,
   "metadata": {},
   "outputs": [
    {
     "name": "stdout",
     "output_type": "stream",
     "text": [
      "Original shape is  torch.Size([96, 96, 3])\n"
     ]
    },
    {
     "data": {
      "image/png": "[encoded data removed]",
      "text/plain": [
       "<Figure size 640x480 with 2 Axes>"
      ]
     },
     "metadata": {},
     "output_type": "display_data"
    }
   ],
   "source": [
    "train_dataloader = DataLoader(train_dataset)\n",
    "images_data, label_data = next(iter(train_dataloader)) \n",
    "\n",
    "print('Original shape is ', images_data[0].shape)\n",
    "plt.figure()\n",
    "plt.imshow(images_data[0].numpy())\n",
    "plt.colorbar()\n",
    "plt.xlabel(class_names[label_data])\n",
    "plt.show()"
   ]
  },
  {
   "cell_type": "code",
   "execution_count": 16,
   "metadata": {},
   "outputs": [
    {
     "name": "stdout",
     "output_type": "stream",
     "text": [
      "Original shape is: torch.Size([96, 96, 3])\n"
     ]
    }
   ],
   "source": [
    "print('Original shape is:', images_data[0].shape)  # [C, H, W]\n"
   ]
  },
  {
   "cell_type": "code",
   "execution_count": 17,
   "metadata": {},
   "outputs": [],
   "source": [
    "def build_alexnet():\n",
    "    def init_weights(m):\n",
    "        if isinstance(m, torch.nn.Linear):\n",
    "            torch.nn.init.xavier_uniform_(m.weight)\n",
    "            m.bias.data.fill_(0.01)\n",
    "        if isinstance(m, torch.nn.Conv2d):\n",
    "            torch.nn.init.xavier_uniform_(m.weight)\n",
    "        \n",
    "    net = torch.nn.Sequential(\n",
    "        # Input: 96x96x3 (RGB Image)\n",
    "        torch.nn.Conv2d(3, 96, 11, stride=4, padding=2),  # out: 24x24x96\n",
    "        torch.nn.ReLU(),\n",
    "        torch.nn.MaxPool2d(kernel_size=3, stride=2),  # out: 11x11x96\n",
    "        \n",
    "        torch.nn.Conv2d(96, 256, 5, padding=2),  # out: 11x11x256\n",
    "        torch.nn.ReLU(),\n",
    "        torch.nn.MaxPool2d(kernel_size=3, stride=2),  # out: 5x5x256\n",
    "        \n",
    "        torch.nn.Conv2d(256, 384, 3, padding=1),  # out: 5x5x384\n",
    "        torch.nn.ReLU(),\n",
    "        \n",
    "        torch.nn.Conv2d(384, 384, 3, padding=1),  # out: 5x5x384\n",
    "        torch.nn.ReLU(),\n",
    "        \n",
    "        torch.nn.Conv2d(384, 256, 3, padding=1),  # out: 5x5x256\n",
    "        torch.nn.ReLU(),\n",
    "        torch.nn.MaxPool2d(kernel_size=3, stride=2),  # out: 2x2x256\n",
    "        \n",
    "        torch.nn.Flatten(),\n",
    "        \n",
    "        torch.nn.Linear(2*2*256, 4096),  # fully connected layer 1\n",
    "        torch.nn.ReLU(),\n",
    "        torch.nn.Dropout(0.5),\n",
    "        \n",
    "        torch.nn.Linear(4096, 4096),  # fully connected layer 2\n",
    "        torch.nn.ReLU(),\n",
    "        torch.nn.Dropout(0.5),\n",
    "        \n",
    "        torch.nn.Linear(4096, 10)  # fully connected layer 3 (output layer, 10 classes)\n",
    "    )\n",
    "\n",
    "    net.apply(init_weights)\n",
    "    return net"
   ]
  },
  {
   "cell_type": "code",
   "execution_count": 18,
   "metadata": {},
   "outputs": [
    {
     "name": "stdout",
     "output_type": "stream",
     "text": [
      "Sequential(\n",
      "  (0): Conv2d(3, 96, kernel_size=(11, 11), stride=(4, 4), padding=(2, 2))\n",
      "  (1): ReLU()\n",
      "  (2): MaxPool2d(kernel_size=3, stride=2, padding=0, dilation=1, ceil_mode=False)\n",
      "  (3): Conv2d(96, 256, kernel_size=(5, 5), stride=(1, 1), padding=(2, 2))\n",
      "  (4): ReLU()\n",
      "  (5): MaxPool2d(kernel_size=3, stride=2, padding=0, dilation=1, ceil_mode=False)\n",
      "  (6): Conv2d(256, 384, kernel_size=(3, 3), stride=(1, 1), padding=(1, 1))\n",
      "  (7): ReLU()\n",
      "  (8): Conv2d(384, 384, kernel_size=(3, 3), stride=(1, 1), padding=(1, 1))\n",
      "  (9): ReLU()\n",
      "  (10): Conv2d(384, 256, kernel_size=(3, 3), stride=(1, 1), padding=(1, 1))\n",
      "  (11): ReLU()\n",
      "  (12): MaxPool2d(kernel_size=3, stride=2, padding=0, dilation=1, ceil_mode=False)\n",
      "  (13): Flatten(start_dim=1, end_dim=-1)\n",
      "  (14): Linear(in_features=1024, out_features=4096, bias=True)\n",
      "  (15): ReLU()\n",
      "  (16): Dropout(p=0.5, inplace=False)\n",
      "  (17): Linear(in_features=4096, out_features=4096, bias=True)\n",
      "  (18): ReLU()\n",
      "  (19): Dropout(p=0.5, inplace=False)\n",
      "  (20): Linear(in_features=4096, out_features=10, bias=True)\n",
      ")\n"
     ]
    }
   ],
   "source": [
    "net = build_alexnet()\n",
    "net.to(device)\n",
    "print(net)"
   ]
  },
  {
   "cell_type": "code",
   "execution_count": 19,
   "metadata": {},
   "outputs": [],
   "source": [
    "def train(net, train_loader, device, num_epochs, learning_rate):\n",
    "    \n",
    "    optimizer = optim.SGD(net.parameters(), lr=learning_rate, momentum=0.9)\n",
    "    loss_function = torch.nn.CrossEntropyLoss()\n",
    "    acc_history = []\n",
    "\n",
    "    with tqdm(total=len(train_loader)*num_epochs, position=0, leave=True) as pbar:\n",
    "\n",
    "        for epoch in range(num_epochs):\n",
    "            running_loss = 0.0\n",
    "            correct = 0\n",
    "            total = 0 \n",
    "            \n",
    "            for batch_num, (inputs, labels) in enumerate(train_loader):\n",
    "                # Possibly copy inputs and labels to the GPU\n",
    "                # batch x [48, 48, 1] -> batch x [1, 48, 48]\n",
    "                inputs = inputs.permute(0, 3, 1, 2).to(device)\n",
    "                labels = labels.to(device)\n",
    "                \n",
    "                optimizer.zero_grad()\n",
    "\n",
    "                # Forward pass\n",
    "                outputs = net(inputs)\n",
    "                loss = loss_function(outputs, labels)\n",
    "\n",
    "                # Backpropagation                \n",
    "                loss.backward()\n",
    "\n",
    "                # Update\n",
    "                optimizer.step()\n",
    "\n",
    "                # Print progress\n",
    "                running_loss += loss.item()\n",
    "\n",
    "                # Calculate batch Accuracy\n",
    "                _, predicted = outputs.max(1)\n",
    "                batch_total = labels.size(0)\n",
    "                batch_correct = predicted.eq(labels).sum().item()\n",
    "                batch_acc = batch_correct/batch_total\n",
    "                \n",
    "                pbar.set_description(\"Epoch: %d, Batch: %2d, Loss: %.2f, Acc: %.2f\" % (epoch, batch_num, running_loss, batch_acc))\n",
    "                pbar.update()\n",
    "\n",
    "                total += batch_total\n",
    "                correct += batch_correct\n",
    "\n",
    "            # Print the evaluation metric and reset it for the next epoch\n",
    "            acc = correct/total \n",
    "            acc_history.append(acc)\n",
    "\n",
    "        pbar.close()\n",
    "\n",
    "    return acc_history"
   ]
  },
  {
   "cell_type": "code",
   "execution_count": 20,
   "metadata": {},
   "outputs": [
    {
     "name": "stderr",
     "output_type": "stream",
     "text": [
      "  0%|          | 0/775 [00:00<?, ?it/s]"
     ]
    },
    {
     "name": "stderr",
     "output_type": "stream",
     "text": [
      "Epoch: 30, Batch: 24, Loss: 21.49, Acc: 0.58: 100%|██████████| 775/775 [05:11<00:00,  2.49it/s]\n"
     ]
    }
   ],
   "source": [
    "BATCH_SIZE = 16\n",
    "EPOCHS = 31\n",
    "LR = 0.0023907002927538432\n",
    "\n",
    "train_dataloader = DataLoader(train_dataset, batch_size = BATCH_SIZE)\n",
    "\n",
    "hist_net = train(net, train_dataloader, device, EPOCHS, LR)"
   ]
  },
  {
   "cell_type": "code",
   "execution_count": 21,
   "metadata": {},
   "outputs": [
    {
     "data": {
      "image/png": "[encoded data removed]",
      "text/plain": [
       "<Figure size 700x400 with 1 Axes>"
      ]
     },
     "metadata": {},
     "output_type": "display_data"
    }
   ],
   "source": [
    "print_history(hist_net, \"AlexNet Model Accuracy\")"
   ]
  },
  {
   "cell_type": "code",
   "execution_count": 22,
   "metadata": {},
   "outputs": [
    {
     "data": {
      "text/plain": [
       "[0.5303030303030303,\n",
       " 0.5631313131313131,\n",
       " 0.6540404040404041,\n",
       " 0.6540404040404041,\n",
       " 0.6590909090909091,\n",
       " 0.6515151515151515,\n",
       " 0.6590909090909091,\n",
       " 0.6590909090909091,\n",
       " 0.6565656565656566,\n",
       " 0.6590909090909091,\n",
       " 0.6565656565656566,\n",
       " 0.6540404040404041,\n",
       " 0.6515151515151515,\n",
       " 0.6540404040404041,\n",
       " 0.6590909090909091,\n",
       " 0.6515151515151515,\n",
       " 0.6540404040404041,\n",
       " 0.6540404040404041,\n",
       " 0.6565656565656566,\n",
       " 0.6590909090909091,\n",
       " 0.6540404040404041,\n",
       " 0.6565656565656566,\n",
       " 0.6565656565656566,\n",
       " 0.6515151515151515,\n",
       " 0.6565656565656566,\n",
       " 0.6565656565656566,\n",
       " 0.6565656565656566,\n",
       " 0.6515151515151515,\n",
       " 0.6565656565656566,\n",
       " 0.6565656565656566,\n",
       " 0.6565656565656566]"
      ]
     },
     "execution_count": 22,
     "metadata": {},
     "output_type": "execute_result"
    }
   ],
   "source": [
    "hist_net"
   ]
  },
  {
   "cell_type": "code",
   "execution_count": 23,
   "metadata": {},
   "outputs": [],
   "source": [
    "def evaluate_acc(net, test_loader, device):\n",
    "    total = 0\n",
    "    correct = 0\n",
    "    all_labels = []\n",
    "    all_preds = []\n",
    "    \n",
    "    for _, (inputs, labels) in enumerate(test_loader):\n",
    "        inputs = inputs.permute(0, 3, 1, 2).to(device)\n",
    "        labels = labels.to(device)\n",
    "        \n",
    "        outputs = net(inputs)        \n",
    "        _, predicted = outputs.max(1)\n",
    "        \n",
    "        total += labels.size(0)\n",
    "        correct += predicted.eq(labels).sum().item()\n",
    "        \n",
    "        all_labels.extend(labels.cpu().numpy())\n",
    "        all_preds.extend(predicted.cpu().numpy())\n",
    "    \n",
    "    acc = correct / total\n",
    "    \n",
    "    cm = confusion_matrix(all_labels, all_preds)\n",
    "    \n",
    "    plt.figure(figsize=(8, 6))\n",
    "    sns.heatmap(cm, annot=True, fmt='d', cmap='Blues', xticklabels=np.unique(all_labels), yticklabels=np.unique(all_labels))\n",
    "    plt.xlabel('Predicted Labels')\n",
    "    plt.ylabel('True Labels')\n",
    "    plt.title('Confusion Matrix')\n",
    "    plt.show()\n",
    "    \n",
    "    return acc"
   ]
  },
  {
   "cell_type": "code",
   "execution_count": 24,
   "metadata": {},
   "outputs": [],
   "source": [
    "test_dataloader = DataLoader(test_dataset, batch_size = BATCH_SIZE)"
   ]
  },
  {
   "cell_type": "code",
   "execution_count": 25,
   "metadata": {},
   "outputs": [
    {
     "data": {
      "image/png": "[encoded data removed]",
      "text/plain": [
       "<Figure size 800x600 with 2 Axes>"
      ]
     },
     "metadata": {},
     "output_type": "display_data"
    },
    {
     "name": "stdout",
     "output_type": "stream",
     "text": [
      "Test Accuracy (LeNet): 60.61%\n"
     ]
    }
   ],
   "source": [
    "lenet_acc = evaluate_acc(net, test_dataloader, device)\n",
    "\n",
    "print('Test Accuracy (LeNet): {:.2%}'.format(lenet_acc))"
   ]
  },
  {
   "cell_type": "markdown",
   "metadata": {},
   "source": [
    "### HYPERPARAMS"
   ]
  },
  {
   "cell_type": "code",
   "execution_count": 26,
   "metadata": {},
   "outputs": [],
   "source": [
    "def objective(trial):\n",
    "    BATCH_SIZE = trial.suggest_categorical(\"batch_size\", [16, 32, 64])\n",
    "    EPOCHS = trial.suggest_int(\"epochs\", 10, 15)\n",
    "    LR = trial.suggest_loguniform(\"lr\", 0.001, 0.005)\n",
    "\n",
    "    train_dataloader = DataLoader(train_dataset, batch_size=BATCH_SIZE)\n",
    "    model = net.to(device)\n",
    "    hist_net = train(model, train_dataloader, device, EPOCHS, LR)\n",
    "\n",
    "    val_accuracy = hist_net[-1]\n",
    "    \n",
    "    return 1.0 - val_accuracy\n",
    "\n",
    "#study = optuna.create_study(direction=\"maximize\")\n",
    "#study.optimize(objective, n_trials=3)\n",
    "#\n",
    "#print(\"Best hyperparameters:\", study.best_params)\n",
    "#Best hyperparameters: {'batch_size': 16, 'epochs': 31, 'lr': 0.0023907002927538432}"
   ]
  },
  {
   "cell_type": "code",
   "execution_count": 27,
   "metadata": {},
   "outputs": [],
   "source": [
    "def show_random(net, dataloader, train_image_no):\n",
    "    def get_prediction(net, input):\n",
    "        input = input.to(device)\n",
    "        outputs = net(input)        \n",
    "        _, predicted = outputs.max(1)\n",
    "        return predicted\n",
    "\n",
    "    images_data, original_label = next(iter(dataloader))\n",
    "    images_data = images_data[train_image_no]\n",
    "    original_label = original_label[train_image_no]\n",
    "\n",
    "    print(\"images_data shape:\", images_data.shape)\n",
    "\n",
    "    if len(images_data.shape) == 3:  # if no batch dimension, add it\n",
    "        images_data = images_data.unsqueeze(0) \n",
    "    \n",
    "    images_data = images_data.permute(0, 3, 1, 2)\n",
    "\n",
    "    predicted_label = get_prediction(net, images_data)\n",
    "    print('original_label ', original_label) \n",
    "    print('predicted_label ', predicted_label)\n",
    "    c = 'green' if original_label == predicted_label[0] else 'red'\n",
    "\n",
    "    plt.figure()\n",
    "    plt.imshow(images_data[0].cpu().numpy().transpose(1, 2, 0))\n",
    "    plt.colorbar()\n",
    "    plt.xlabel(class_names[predicted_label], color=c)\n",
    "    plt.show()\n"
   ]
  },
  {
   "cell_type": "code",
   "execution_count": 34,
   "metadata": {},
   "outputs": [
    {
     "name": "stdout",
     "output_type": "stream",
     "text": [
      "images_data shape: torch.Size([96, 96, 3])\n",
      "original_label  tensor(2)\n",
      "predicted_label  tensor([2])\n"
     ]
    },
    {
     "data": {
      "image/png": "[encoded data removed]",
      "text/plain": [
       "<Figure size 640x480 with 2 Axes>"
      ]
     },
     "metadata": {},
     "output_type": "display_data"
    }
   ],
   "source": [
    "#nn\n",
    "show_random(net, test_dataloader, random.randint(0,10))"
   ]
  }
 ],
 "metadata": {
  "kernelspec": {
   "display_name": "llama3",
   "language": "python",
   "name": "python3"
  },
  "language_info": {
   "codemirror_mode": {
    "name": "ipython",
    "version": 3
   },
   "file_extension": ".py",
   "mimetype": "text/x-python",
   "name": "python",
   "nbconvert_exporter": "python",
   "pygments_lexer": "ipython3",
   "version": "3.10.13"
  }
 },
 "nbformat": 4,
 "nbformat_minor": 2
}
