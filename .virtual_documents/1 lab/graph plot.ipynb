import pandas as pd
import numpy as np
import seaborn as sns
from matplotlib import pyplot as plt

from category_encoders import BinaryEncoder

from sklearn.preprocessing import LabelEncoder

from sklearn.pipeline import make_pipeline

from sklearn.preprocessing import StandardScaler

from sklearn.linear_model import LinearRegression

from sklearn.model_selection import cross_validate

from sklearn.preprocessing import StandardScaler


clear_train = pd.read_csv(r"clear_train.csv", index_col=0)


clear_train.head(5)


# Get the columns to compare (excluding 'Transported' and 'Name')
columns_to_compare = clear_train.columns.difference(['Transported', 'Name'])

# Create histograms comparing each column with the 'Transported' column
for column in columns_to_compare:
    plt.figure(figsize=(10, 6))

    # Calculate the number of bins for the histogram
    num_bins = min(50, len(clear_train[column].unique()))
    
    # Plot the histogram with KDE
    sns.histplot(data=clear_train, x=column, hue='Transported', kde=True, 
                 palette={False: 'blue', True: 'red'},
                 kde_kws={'bw_adjust': 0.5}, stat='density', 
                 alpha=0.5, bins=num_bins)
    
    plt.title(f'Сравнение {column} с Transported')
    plt.xlabel(column)
    plt.ylabel('Плотность')
    plt.show()



