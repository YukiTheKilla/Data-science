#Сделаем предсказание с помощью линейной регрессии
X_train = train.drop('Transported', axis=1)  
y_train = train['Transported']               

X_test = test

model = LinearRegression()

model.fit(X_train, y_train)
predictions = model.predict(X_test)
predictions = np.round(predictions)
predictions = predictions > 0

original_test['Transported'] = predictions
original_test.head(5)
