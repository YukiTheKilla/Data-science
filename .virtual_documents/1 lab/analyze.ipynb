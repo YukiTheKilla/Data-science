import pandas as pd
import numpy as np
import seaborn as sns
from matplotlib import pyplot as plt

from category_encoders import BinaryEncoder

from sklearn.preprocessing import LabelEncoder

from sklearn.pipeline import make_pipeline

from sklearn.preprocessing import StandardScaler

from sklearn.linear_model import LinearRegression

from sklearn.model_selection import cross_validate

from sklearn.preprocessing import StandardScaler


train = pd.read_csv(r"clear_train.csv", index_col=0)
test = pd.read_csv(r"clear_test.csv", index_col=0)


print(train.columns)
print(test.columns)


# Декодирование
def BinaryDecoder(encoded_df, original_df, encoder):
    decoded_df = pd.DataFrame()
    for col in encoder.cols:
        # Получаем количество бинарных столбцов для каждой переменной
        bin_cols = [c for c in encoded_df.columns if c.startswith(col)]
        # Получаем индексы уникальных комбинаций закодированных данных
        unique_binary_values = encoded_df[bin_cols].drop_duplicates().reset_index(drop=True)
        # Сопоставляем их с исходными значениями
        mapping = dict(zip(unique_binary_values.apply(tuple, axis=1), original_df[col].unique()))
        # Применяем декодирование
        decoded_df[col] = encoded_df[bin_cols].apply(lambda row: mapping[tuple(row)], axis=1)
    return decoded_df


#le = LabelEncoder()
#for i in ['deck', 'Name','HomePlanet', 'Destination', 'side']:
#    train[i] = le.fit_transform(train[i])
#    train[i] = le.fit_transform(test[i])
#
#train.head(5)
#test.head(5)

# Сохраняем исходные данные
original_train = train.copy()
original_test = test.copy()
#т.к эти параметры содержат по 2-3 различных значения применим BinaryEncoder
encoder = BinaryEncoder(cols=['HomePlanet', 'Destination', 'side'])

train = encoder.fit_transform(train)
test = encoder.fit_transform(test)
#т.к эти параметры содержат много различных значения применим LabelEncoder
le = LabelEncoder()
for i in ['deck', 'Name']:
    train[i] = le.fit_transform(train[i])
    test[i] = le.fit_transform(test[i])

train.head(5)


corr = train.corr()
plt.figure(1, figsize=(8, 6)) 
sns.heatmap(corr,center=0) 
plt.show()
#train.corr()


#Сделаем предсказание с помощью линейной регрессии
X_train = train.drop('Transported', axis=1)  
y_train = train['Transported']               

X_test = test

model = LinearRegression()

model.fit(X_train, y_train)
predictions = model.predict(X_test)
predictions = np.round(predictions)
predictions = predictions > 0

original_test['Transported'] = predictions
original_test.head(5)
