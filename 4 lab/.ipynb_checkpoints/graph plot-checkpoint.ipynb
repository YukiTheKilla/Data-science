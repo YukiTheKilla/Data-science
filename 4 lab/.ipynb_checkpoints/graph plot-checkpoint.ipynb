{
 "cells": [
  {
   "cell_type": "code",
   "execution_count": null,
   "id": "d1593dec-a8fb-4dbc-a8e4-fd232b3f3ca7",
   "metadata": {},
   "outputs": [],
   "source": [
    "import pandas as pd\n",
    "import numpy as np\n",
    "import seaborn as sns\n",
    "from matplotlib import pyplot as plt\n",
    "\n",
    "from category_encoders import BinaryEncoder\n",
    "\n",
    "from sklearn.preprocessing import LabelEncoder\n",
    "\n",
    "from sklearn.pipeline import make_pipeline\n",
    "\n",
    "from sklearn.preprocessing import StandardScaler\n",
    "\n",
    "from sklearn.linear_model import LinearRegression\n",
    "\n",
    "from sklearn.model_selection import cross_validate\n",
    "\n",
    "from sklearn.preprocessing import StandardScaler"
   ]
  },
  {
   "cell_type": "code",
   "execution_count": null,
   "id": "cb75997c-fb41-4fea-abe1-9793b63ffa48",
   "metadata": {},
   "outputs": [],
   "source": [
    "columns_to_compare = original_train.columns.difference(['Transported', 'Name'])\n",
    "\n",
    "# Создаем график для сравнения всех столбцов с выживаемостью\n",
    "for column in columns_to_compare:\n",
    "    plt.figure(figsize=(10, 6))\n",
    "    \n",
    "    num_bins = min(50, len(original_train[column].unique()))\n",
    "    sns.histplot(data=original_train, x=column, hue='Transported', kde=True, \n",
    "                palette={False: 'blue', True: 'red'},\n",
    "                kde_kws={'bw_adjust': 0.5}, stat='density', \n",
    "                alpha=0.5, bins=num_bins)\n",
    "    plt.title(f'Сравнение {column} с Transported')\n",
    "    plt.xlabel(column)\n",
    "    plt.ylabel('Плотность')\n",
    "    plt.show()"
   ]
  }
 ],
 "metadata": {
  "kernelspec": {
   "display_name": "Python (.conda)",
   "language": "python",
   "name": ".conda"
  },
  "language_info": {
   "codemirror_mode": {
    "name": "ipython",
    "version": 3
   },
   "file_extension": ".py",
   "mimetype": "text/x-python",
   "name": "python",
   "nbconvert_exporter": "python",
   "pygments_lexer": "ipython3",
   "version": "3.12.4"
  }
 },
 "nbformat": 4,
 "nbformat_minor": 5
}
