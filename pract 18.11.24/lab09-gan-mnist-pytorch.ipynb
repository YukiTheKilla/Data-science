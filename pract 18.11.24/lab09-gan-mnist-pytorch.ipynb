{
 "cells": [
  {
   "cell_type": "code",
   "execution_count": 75,
   "metadata": {
    "ExecuteTime": {
     "end_time": "2024-11-13T11:02:31.937370Z",
     "start_time": "2024-11-13T11:02:30.720798Z"
    }
   },
   "outputs": [
    {
     "name": "stdout",
     "output_type": "stream",
     "text": [
      "mps\n"
     ]
    }
   ],
   "source": [
    "# prerequisites\n",
    "import torch\n",
    "import torch.nn as nn\n",
    "import torch.nn.functional as F\n",
    "import torch.optim as optim\n",
    "from torchvision import datasets, transforms\n",
    "from torch.autograd import Variable\n",
    "from torchvision.utils import save_image\n",
    "\n",
    "# Device configuration\n",
    "device = torch.device('mps' if torch.mps.is_available() else 'cpu')\n",
    "print(device)"
   ]
  },
  {
   "cell_type": "code",
   "execution_count": 76,
   "metadata": {
    "ExecuteTime": {
     "end_time": "2024-11-13T14:47:42.229472Z",
     "start_time": "2024-11-13T14:47:42.144810Z"
    }
   },
   "outputs": [],
   "source": [
    "BATCH_SIZE = 100\n",
    "\n",
    "# MNIST Dataset\n",
    "transform = transforms.Compose([\n",
    "    transforms.ToTensor(),\n",
    "    transforms.Normalize(0.13, 0.31)])\n",
    "\n",
    "train_dataset = datasets.MNIST(root='data', train=True, transform=transform, download=True)\n",
    "test_dataset = datasets.MNIST(root='data', train=False, transform=transform, download=True)\n",
    "\n",
    "#train_dataset = datasets.FashionMNIST(root='data', train=True, transform=transform, download=True)\n",
    "#test_dataset = datasets.FashionMNIST(root='data', train=False, transform=transform, download=True)\n",
    "\n",
    "# Data Loader (Input Pipeline)\n",
    "train_loader = torch.utils.data.DataLoader(dataset=train_dataset, batch_size=BATCH_SIZE, shuffle=True)\n",
    "test_loader = torch.utils.data.DataLoader(dataset=test_dataset, batch_size=BATCH_SIZE, shuffle=False)\n"
   ]
  },
  {
   "cell_type": "code",
   "execution_count": 77,
   "metadata": {
    "ExecuteTime": {
     "end_time": "2024-11-13T14:47:43.247882Z",
     "start_time": "2024-11-13T14:47:43.212410Z"
    }
   },
   "outputs": [],
   "source": [
    "def init_weights(m):\n",
    "    if type(m) == torch.nn.Linear:\n",
    "        torch.nn.init.xavier_uniform_(m.weight)\n",
    "        m.bias.data.fill_(0.01)\n",
    "\n",
    "class Generator(nn.Module):\n",
    "    def __init__(self, g_input_dim, g_output_dim):\n",
    "        super(Generator, self).__init__()       \n",
    "        self.fc1 = nn.Linear(g_input_dim, 512)\n",
    "        self.fc2 = nn.Linear(512, 1024)\n",
    "        self.fc3 = nn.Linear(1024, 1024)\n",
    "        self.fc4 = nn.Linear(1024, g_output_dim)\n",
    "        \n",
    "        self.apply(init_weights)\n",
    "    \n",
    "    # forward method\n",
    "    def forward(self, x): \n",
    "        # x = F.leaky_relu(self.fc1(x), 0.2)\n",
    "        # x = F.leaky_relu(self.fc2(x), 0.2)\n",
    "        # x = F.leaky_relu(self.fc3(x), 0.2)\n",
    "        # return torch.tanh(self.fc4(x))\n",
    "        x = F.relu(self.fc1(x))\n",
    "        x = F.relu(self.fc2(x))\n",
    "        x = F.relu(self.fc3(x))\n",
    "        return torch.tanh(self.fc4(x))\n",
    "    \n",
    "class Discriminator(nn.Module):\n",
    "    def __init__(self, d_input_dim):\n",
    "        super(Discriminator, self).__init__()\n",
    "        self.fc1 = nn.Linear(d_input_dim, 1024)\n",
    "        self.fc2 = nn.Linear(self.fc1.out_features, self.fc1.out_features//2)\n",
    "        self.fc3 = nn.Linear(self.fc2.out_features, self.fc2.out_features//2)\n",
    "        self.fc4 = nn.Linear(self.fc3.out_features, 1)\n",
    "        \n",
    "        self.apply(init_weights)\n",
    "    \n",
    "    # forward method\n",
    "    def forward(self, x):\n",
    "        x = F.leaky_relu(self.fc1(x), 0.2)\n",
    "        x = F.dropout(x, 0.3)\n",
    "        x = F.leaky_relu(self.fc2(x), 0.2)\n",
    "        x = F.dropout(x, 0.3)\n",
    "        x = F.leaky_relu(self.fc3(x), 0.2)\n",
    "        x = F.dropout(x, 0.3)\n",
    "        return torch.sigmoid(self.fc4(x))"
   ]
  },
  {
   "cell_type": "code",
   "execution_count": 78,
   "metadata": {
    "ExecuteTime": {
     "end_time": "2024-11-13T14:47:44.079203Z",
     "start_time": "2024-11-13T14:47:44.045407Z"
    }
   },
   "outputs": [
    {
     "name": "stderr",
     "output_type": "stream",
     "text": [
      "/opt/anaconda3/envs/datascience_env/lib/python3.12/site-packages/torchvision/datasets/mnist.py:76: UserWarning: train_data has been renamed data\n",
      "  warnings.warn(\"train_data has been renamed data\")\n"
     ]
    }
   ],
   "source": [
    "# build network\n",
    "Z_DIM = 50\n",
    "mnist_dim = train_dataset.train_data.size(1) * train_dataset.train_data.size(2)\n",
    "\n",
    "G = Generator(g_input_dim = Z_DIM, g_output_dim = mnist_dim).to(device)\n",
    "D = Discriminator(mnist_dim).to(device)"
   ]
  },
  {
   "cell_type": "code",
   "execution_count": 79,
   "metadata": {
    "ExecuteTime": {
     "end_time": "2024-11-13T14:47:44.673177Z",
     "start_time": "2024-11-13T14:47:44.649817Z"
    }
   },
   "outputs": [
    {
     "data": {
      "text/plain": [
       "Generator(\n",
       "  (fc1): Linear(in_features=50, out_features=512, bias=True)\n",
       "  (fc2): Linear(in_features=512, out_features=1024, bias=True)\n",
       "  (fc3): Linear(in_features=1024, out_features=1024, bias=True)\n",
       "  (fc4): Linear(in_features=1024, out_features=784, bias=True)\n",
       ")"
      ]
     },
     "execution_count": 79,
     "metadata": {},
     "output_type": "execute_result"
    }
   ],
   "source": [
    "G"
   ]
  },
  {
   "cell_type": "code",
   "execution_count": 80,
   "metadata": {
    "ExecuteTime": {
     "end_time": "2024-11-13T14:47:45.414722Z",
     "start_time": "2024-11-13T14:47:45.380877Z"
    }
   },
   "outputs": [
    {
     "data": {
      "text/plain": [
       "Discriminator(\n",
       "  (fc1): Linear(in_features=784, out_features=1024, bias=True)\n",
       "  (fc2): Linear(in_features=1024, out_features=512, bias=True)\n",
       "  (fc3): Linear(in_features=512, out_features=256, bias=True)\n",
       "  (fc4): Linear(in_features=256, out_features=1, bias=True)\n",
       ")"
      ]
     },
     "execution_count": 80,
     "metadata": {},
     "output_type": "execute_result"
    }
   ],
   "source": [
    "D"
   ]
  },
  {
   "cell_type": "code",
   "execution_count": 81,
   "metadata": {
    "ExecuteTime": {
     "end_time": "2024-11-13T14:47:46.328203Z",
     "start_time": "2024-11-13T14:47:46.289294Z"
    }
   },
   "outputs": [],
   "source": [
    "# loss\n",
    "criterion = nn.BCELoss() \n",
    "\n",
    "# optimizer\n",
    "lr = 0.0002 \n",
    "G_optimizer = optim.Adam(G.parameters(), lr = lr)\n",
    "D_optimizer = optim.Adam(D.parameters(), lr = lr)"
   ]
  },
  {
   "cell_type": "code",
   "execution_count": 82,
   "metadata": {
    "ExecuteTime": {
     "end_time": "2024-11-13T14:47:47.684683Z",
     "start_time": "2024-11-13T14:47:47.640039Z"
    }
   },
   "outputs": [],
   "source": [
    "def D_train(x):\n",
    "    #=======================Train the discriminator=======================#\n",
    "    D.zero_grad()\n",
    "\n",
    "    # train discriminator on real\n",
    "    x_real, y_real = x.view(-1, mnist_dim), torch.ones(BATCH_SIZE, 1)\n",
    "    x_real, y_real = Variable(x_real.to(device)), Variable(y_real.to(device))\n",
    "\n",
    "    D_output = D(x_real)\n",
    "    D_real_loss = criterion(D_output, y_real)\n",
    "    D_real_score = D_output\n",
    "\n",
    "    # train discriminator on fake\n",
    "    z = Variable(torch.randn(BATCH_SIZE, Z_DIM).to(device))\n",
    "    x_fake, y_fake = G(z), Variable(torch.zeros(BATCH_SIZE, 1).to(device))\n",
    "\n",
    "    D_output = D(x_fake)\n",
    "    D_fake_loss = criterion(D_output, y_fake)\n",
    "    D_fake_score = D_output\n",
    "\n",
    "    # gradient backprop & optimize ONLY D's parameters\n",
    "    D_loss = D_real_loss + D_fake_loss\n",
    "    D_loss.backward()\n",
    "    D_optimizer.step()\n",
    "        \n",
    "    return  D_loss.data.item()"
   ]
  },
  {
   "cell_type": "code",
   "execution_count": 83,
   "metadata": {
    "ExecuteTime": {
     "end_time": "2024-11-13T14:47:48.562340Z",
     "start_time": "2024-11-13T14:47:48.559987Z"
    }
   },
   "outputs": [],
   "source": [
    "def G_train(x):\n",
    "    #=======================Train the generator=======================#\n",
    "    G.zero_grad()\n",
    "\n",
    "    z = Variable(torch.randn(BATCH_SIZE, Z_DIM).to(device))\n",
    "    y = Variable(torch.ones(BATCH_SIZE, 1).to(device))\n",
    "\n",
    "    G_output = G(z)\n",
    "    D_output = D(G_output)\n",
    "    G_loss = criterion(D_output, y)\n",
    "\n",
    "    # gradient backprop & optimize ONLY G's parameters\n",
    "    G_loss.backward()\n",
    "    G_optimizer.step()\n",
    "        \n",
    "    return G_loss.data.item()"
   ]
  },
  {
   "cell_type": "code",
   "execution_count": 85,
   "metadata": {},
   "outputs": [],
   "source": [
    "test_z = Variable(torch.randn(BATCH_SIZE, Z_DIM).to(device))\n"
   ]
  },
  {
   "cell_type": "code",
   "execution_count": 86,
   "metadata": {
    "collapsed": false
   },
   "outputs": [],
   "source": [
    "generated = G(test_z)"
   ]
  },
  {
   "cell_type": "code",
   "execution_count": 87,
   "metadata": {
    "collapsed": false
   },
   "outputs": [
    {
     "data": {
      "text/plain": [
       "torch.Size([100, 784])"
      ]
     },
     "execution_count": 87,
     "metadata": {},
     "output_type": "execute_result"
    }
   ],
   "source": [
    "generated.shape"
   ]
  },
  {
   "cell_type": "code",
   "execution_count": 88,
   "metadata": {
    "collapsed": false
   },
   "outputs": [],
   "source": [
    "save_image(generated.view(generated.size(0), 1, 28, 28), \n",
    "                   f'./output/all.png')"
   ]
  },
  {
   "cell_type": "code",
   "execution_count": 89,
   "metadata": {
    "collapsed": false
   },
   "outputs": [],
   "source": [
    "def generate_test_image(epoch):\n",
    "    with torch.no_grad():\n",
    "        generated = G(test_z)\n",
    "        save_image(generated.view(generated.size(0), 1, 28, 28)[0], \n",
    "                   f'./output/sample_{epoch}.png')"
   ]
  },
  {
   "cell_type": "code",
   "execution_count": 90,
   "metadata": {},
   "outputs": [
    {
     "name": "stdout",
     "output_type": "stream",
     "text": [
      "[1/300]: loss_d: 0.633, loss_g: 3.900\n",
      "[2/300]: loss_d: 0.120, loss_g: 10.316\n",
      "[3/300]: loss_d: 0.129, loss_g: 8.270\n",
      "[4/300]: loss_d: 0.087, loss_g: 10.855\n",
      "[5/300]: loss_d: 0.081, loss_g: 11.509\n",
      "[6/300]: loss_d: 0.075, loss_g: 10.853\n",
      "[7/300]: loss_d: 0.059, loss_g: 12.008\n",
      "[8/300]: loss_d: 0.057, loss_g: 11.081\n",
      "[9/300]: loss_d: 0.042, loss_g: 11.590\n",
      "[10/300]: loss_d: 0.052, loss_g: 11.768\n",
      "[11/300]: loss_d: 0.044, loss_g: 10.850\n",
      "[12/300]: loss_d: 0.046, loss_g: 11.118\n",
      "[13/300]: loss_d: 0.044, loss_g: 11.528\n",
      "[14/300]: loss_d: 0.048, loss_g: 10.335\n",
      "[15/300]: loss_d: 0.049, loss_g: 9.877\n",
      "[16/300]: loss_d: 0.038, loss_g: 10.535\n",
      "[17/300]: loss_d: 0.039, loss_g: 10.059\n",
      "[18/300]: loss_d: 0.039, loss_g: 9.574\n",
      "[19/300]: loss_d: 0.039, loss_g: 10.207\n",
      "[20/300]: loss_d: 0.042, loss_g: 10.052\n",
      "[21/300]: loss_d: 0.045, loss_g: 10.033\n",
      "[22/300]: loss_d: 0.041, loss_g: 9.799\n",
      "[23/300]: loss_d: 0.048, loss_g: 9.125\n",
      "[24/300]: loss_d: 0.051, loss_g: 8.957\n",
      "[25/300]: loss_d: 0.053, loss_g: 9.428\n",
      "[26/300]: loss_d: 0.041, loss_g: 8.540\n",
      "[27/300]: loss_d: 0.041, loss_g: 8.551\n",
      "[28/300]: loss_d: 0.042, loss_g: 8.521\n",
      "[29/300]: loss_d: 0.035, loss_g: 9.809\n",
      "[30/300]: loss_d: 0.040, loss_g: 8.584\n",
      "[31/300]: loss_d: 0.051, loss_g: 8.830\n",
      "[32/300]: loss_d: 0.046, loss_g: 8.494\n",
      "[33/300]: loss_d: 0.039, loss_g: 8.407\n",
      "[34/300]: loss_d: 0.038, loss_g: 8.937\n",
      "[35/300]: loss_d: 0.043, loss_g: 8.767\n",
      "[36/300]: loss_d: 0.041, loss_g: 8.717\n",
      "[37/300]: loss_d: 0.040, loss_g: 8.429\n",
      "[38/300]: loss_d: 0.040, loss_g: 8.269\n",
      "[39/300]: loss_d: 0.031, loss_g: 8.800\n",
      "[40/300]: loss_d: 0.038, loss_g: 10.388\n",
      "[41/300]: loss_d: 0.034, loss_g: 8.985\n",
      "[42/300]: loss_d: 0.041, loss_g: 8.742\n",
      "[43/300]: loss_d: 0.029, loss_g: 9.131\n",
      "[44/300]: loss_d: 0.034, loss_g: 8.616\n",
      "[45/300]: loss_d: 0.039, loss_g: 8.377\n",
      "[46/300]: loss_d: 0.030, loss_g: 8.812\n",
      "[47/300]: loss_d: 0.032, loss_g: 8.862\n",
      "[48/300]: loss_d: 0.026, loss_g: 8.551\n",
      "[49/300]: loss_d: 0.017, loss_g: 10.123\n",
      "[50/300]: loss_d: 0.028, loss_g: 9.511\n",
      "[51/300]: loss_d: 0.025, loss_g: 9.263\n",
      "[52/300]: loss_d: 0.027, loss_g: 9.334\n",
      "[53/300]: loss_d: 0.023, loss_g: 9.531\n",
      "[54/300]: loss_d: 0.023, loss_g: 9.246\n",
      "[55/300]: loss_d: 0.028, loss_g: 9.007\n",
      "[56/300]: loss_d: 0.021, loss_g: 8.785\n",
      "[57/300]: loss_d: 0.021, loss_g: 9.188\n",
      "[58/300]: loss_d: 0.022, loss_g: 9.782\n",
      "[59/300]: loss_d: 0.029, loss_g: 9.104\n",
      "[60/300]: loss_d: 0.028, loss_g: 8.539\n",
      "[61/300]: loss_d: 0.021, loss_g: 9.110\n",
      "[62/300]: loss_d: 0.021, loss_g: 9.809\n",
      "[63/300]: loss_d: 0.024, loss_g: 9.626\n",
      "[64/300]: loss_d: 0.017, loss_g: 9.704\n",
      "[65/300]: loss_d: 0.025, loss_g: 9.896\n",
      "[66/300]: loss_d: 0.021, loss_g: 9.391\n",
      "[67/300]: loss_d: 0.021, loss_g: 9.261\n",
      "[68/300]: loss_d: 0.018, loss_g: 9.219\n",
      "[69/300]: loss_d: 0.022, loss_g: 9.768\n",
      "[70/300]: loss_d: 0.018, loss_g: 9.529\n",
      "[71/300]: loss_d: 0.024, loss_g: 9.009\n",
      "[72/300]: loss_d: 0.021, loss_g: 8.526\n",
      "[73/300]: loss_d: 0.022, loss_g: 9.276\n",
      "[74/300]: loss_d: 0.024, loss_g: 8.861\n",
      "[75/300]: loss_d: 0.021, loss_g: 8.903\n",
      "[76/300]: loss_d: 0.020, loss_g: 9.867\n",
      "[77/300]: loss_d: 0.021, loss_g: 9.456\n",
      "[78/300]: loss_d: 0.018, loss_g: 9.305\n",
      "[79/300]: loss_d: 0.019, loss_g: 9.509\n",
      "[80/300]: loss_d: 0.019, loss_g: 8.992\n",
      "[81/300]: loss_d: 0.016, loss_g: 9.161\n",
      "[82/300]: loss_d: 0.018, loss_g: 9.383\n",
      "[83/300]: loss_d: 0.016, loss_g: 9.049\n",
      "[84/300]: loss_d: 0.015, loss_g: 9.062\n",
      "[85/300]: loss_d: 0.014, loss_g: 9.787\n",
      "[86/300]: loss_d: 0.019, loss_g: 9.463\n",
      "[87/300]: loss_d: 0.018, loss_g: 9.273\n",
      "[88/300]: loss_d: 0.018, loss_g: 9.086\n",
      "[89/300]: loss_d: 0.016, loss_g: 9.235\n",
      "[90/300]: loss_d: 0.016, loss_g: 9.692\n",
      "[91/300]: loss_d: 0.022, loss_g: 9.965\n",
      "[92/300]: loss_d: 0.015, loss_g: 9.113\n",
      "[93/300]: loss_d: 0.015, loss_g: 9.761\n",
      "[94/300]: loss_d: 0.016, loss_g: 9.324\n",
      "[95/300]: loss_d: 0.019, loss_g: 9.138\n",
      "[96/300]: loss_d: 0.018, loss_g: 9.503\n",
      "[97/300]: loss_d: 0.015, loss_g: 9.224\n",
      "[98/300]: loss_d: 0.015, loss_g: 10.028\n",
      "[99/300]: loss_d: 0.016, loss_g: 9.539\n",
      "[100/300]: loss_d: 0.013, loss_g: 9.540\n",
      "[101/300]: loss_d: 0.018, loss_g: 9.663\n",
      "[102/300]: loss_d: 0.016, loss_g: 9.766\n",
      "[103/300]: loss_d: 0.015, loss_g: 9.315\n",
      "[104/300]: loss_d: 0.017, loss_g: 9.869\n",
      "[105/300]: loss_d: 0.017, loss_g: 9.164\n",
      "[106/300]: loss_d: 0.014, loss_g: 10.057\n",
      "[107/300]: loss_d: 0.014, loss_g: 9.466\n",
      "[108/300]: loss_d: 0.018, loss_g: 10.118\n",
      "[109/300]: loss_d: 0.015, loss_g: 9.163\n",
      "[110/300]: loss_d: 0.018, loss_g: 10.240\n",
      "[111/300]: loss_d: 0.013, loss_g: 9.366\n",
      "[112/300]: loss_d: 0.013, loss_g: 9.700\n",
      "[113/300]: loss_d: 0.011, loss_g: 9.590\n",
      "[114/300]: loss_d: 0.015, loss_g: 9.955\n",
      "[115/300]: loss_d: 0.012, loss_g: 10.026\n",
      "[116/300]: loss_d: 0.013, loss_g: 10.202\n",
      "[117/300]: loss_d: 0.013, loss_g: 10.140\n",
      "[118/300]: loss_d: 0.015, loss_g: 9.695\n",
      "[119/300]: loss_d: 0.013, loss_g: 10.209\n",
      "[120/300]: loss_d: 0.012, loss_g: 9.411\n",
      "[121/300]: loss_d: 0.015, loss_g: 9.929\n",
      "[122/300]: loss_d: 0.013, loss_g: 9.372\n",
      "[123/300]: loss_d: 0.013, loss_g: 9.963\n",
      "[124/300]: loss_d: 0.013, loss_g: 10.416\n",
      "[125/300]: loss_d: 0.012, loss_g: 9.901\n",
      "[126/300]: loss_d: 0.013, loss_g: 9.967\n",
      "[127/300]: loss_d: 0.011, loss_g: 10.662\n",
      "[128/300]: loss_d: 0.015, loss_g: 10.151\n",
      "[129/300]: loss_d: 0.013, loss_g: 10.143\n",
      "[130/300]: loss_d: 0.012, loss_g: 10.066\n",
      "[131/300]: loss_d: 0.011, loss_g: 10.483\n",
      "[132/300]: loss_d: 0.010, loss_g: 10.263\n",
      "[133/300]: loss_d: 0.012, loss_g: 10.513\n",
      "[134/300]: loss_d: 0.012, loss_g: 9.479\n",
      "[135/300]: loss_d: 0.010, loss_g: 10.090\n",
      "[136/300]: loss_d: 0.010, loss_g: 10.257\n",
      "[137/300]: loss_d: 0.011, loss_g: 10.666\n",
      "[138/300]: loss_d: 0.011, loss_g: 10.640\n",
      "[139/300]: loss_d: 0.010, loss_g: 10.333\n",
      "[140/300]: loss_d: 0.012, loss_g: 10.402\n",
      "[141/300]: loss_d: 0.013, loss_g: 10.148\n",
      "[142/300]: loss_d: 0.014, loss_g: 10.042\n",
      "[143/300]: loss_d: 0.010, loss_g: 10.088\n",
      "[144/300]: loss_d: 0.011, loss_g: 10.407\n",
      "[145/300]: loss_d: 0.009, loss_g: 10.033\n",
      "[146/300]: loss_d: 0.011, loss_g: 10.335\n",
      "[147/300]: loss_d: 0.009, loss_g: 9.902\n",
      "[148/300]: loss_d: 0.008, loss_g: 10.550\n",
      "[149/300]: loss_d: 0.011, loss_g: 10.865\n",
      "[150/300]: loss_d: 0.009, loss_g: 10.625\n",
      "[151/300]: loss_d: 0.010, loss_g: 10.920\n",
      "[152/300]: loss_d: 0.009, loss_g: 10.364\n",
      "[153/300]: loss_d: 0.009, loss_g: 10.612\n",
      "[154/300]: loss_d: 0.010, loss_g: 10.244\n",
      "[155/300]: loss_d: 0.007, loss_g: 10.444\n",
      "[156/300]: loss_d: 0.009, loss_g: 10.829\n",
      "[157/300]: loss_d: 0.008, loss_g: 10.340\n",
      "[158/300]: loss_d: 0.008, loss_g: 11.217\n",
      "[159/300]: loss_d: 0.008, loss_g: 10.625\n",
      "[160/300]: loss_d: 0.009, loss_g: 10.717\n",
      "[161/300]: loss_d: 0.012, loss_g: 10.843\n",
      "[162/300]: loss_d: 0.010, loss_g: 10.419\n",
      "[163/300]: loss_d: 0.010, loss_g: 10.631\n",
      "[164/300]: loss_d: 0.009, loss_g: 10.478\n",
      "[165/300]: loss_d: 0.009, loss_g: 10.354\n",
      "[166/300]: loss_d: 0.008, loss_g: 11.150\n",
      "[167/300]: loss_d: 0.012, loss_g: 10.988\n",
      "[168/300]: loss_d: 0.009, loss_g: 11.009\n",
      "[169/300]: loss_d: 0.010, loss_g: 10.410\n",
      "[170/300]: loss_d: 0.007, loss_g: 10.538\n",
      "[171/300]: loss_d: 0.010, loss_g: 10.859\n",
      "[172/300]: loss_d: 0.007, loss_g: 10.793\n",
      "[173/300]: loss_d: 0.006, loss_g: 11.327\n",
      "[174/300]: loss_d: 0.007, loss_g: 10.918\n",
      "[175/300]: loss_d: 0.009, loss_g: 12.068\n",
      "[176/300]: loss_d: 0.008, loss_g: 11.318\n",
      "[177/300]: loss_d: 0.007, loss_g: 10.656\n",
      "[178/300]: loss_d: 0.006, loss_g: 11.134\n",
      "[179/300]: loss_d: 0.008, loss_g: 11.291\n",
      "[180/300]: loss_d: 0.010, loss_g: 11.245\n",
      "[181/300]: loss_d: 0.008, loss_g: 10.465\n",
      "[182/300]: loss_d: 0.008, loss_g: 10.620\n",
      "[183/300]: loss_d: 0.006, loss_g: 11.075\n",
      "[184/300]: loss_d: 0.008, loss_g: 10.881\n",
      "[185/300]: loss_d: 0.007, loss_g: 11.150\n",
      "[186/300]: loss_d: 0.007, loss_g: 11.273\n",
      "[187/300]: loss_d: 0.007, loss_g: 11.150\n",
      "[188/300]: loss_d: 0.007, loss_g: 10.987\n",
      "[189/300]: loss_d: 0.007, loss_g: 11.048\n",
      "[190/300]: loss_d: 0.007, loss_g: 12.253\n",
      "[191/300]: loss_d: 0.006, loss_g: 11.631\n",
      "[192/300]: loss_d: 0.008, loss_g: 12.498\n",
      "[193/300]: loss_d: 0.010, loss_g: 11.119\n",
      "[194/300]: loss_d: 0.008, loss_g: 10.540\n",
      "[195/300]: loss_d: 0.006, loss_g: 10.661\n",
      "[196/300]: loss_d: 0.007, loss_g: 11.631\n",
      "[197/300]: loss_d: 0.006, loss_g: 11.625\n",
      "[198/300]: loss_d: 0.006, loss_g: 11.126\n",
      "[199/300]: loss_d: 0.007, loss_g: 11.230\n",
      "[200/300]: loss_d: 0.005, loss_g: 11.256\n",
      "[201/300]: loss_d: 0.006, loss_g: 11.866\n",
      "[202/300]: loss_d: 0.007, loss_g: 11.887\n",
      "[203/300]: loss_d: 0.006, loss_g: 11.747\n",
      "[204/300]: loss_d: 0.007, loss_g: 11.579\n",
      "[205/300]: loss_d: 0.007, loss_g: 11.118\n",
      "[206/300]: loss_d: 0.006, loss_g: 10.832\n",
      "[207/300]: loss_d: 0.008, loss_g: 11.228\n",
      "[208/300]: loss_d: 0.006, loss_g: 11.431\n",
      "[209/300]: loss_d: 0.006, loss_g: 10.964\n",
      "[210/300]: loss_d: 0.006, loss_g: 12.171\n",
      "[211/300]: loss_d: 0.005, loss_g: 11.030\n",
      "[212/300]: loss_d: 0.004, loss_g: 11.348\n",
      "[213/300]: loss_d: 0.005, loss_g: 11.705\n",
      "[214/300]: loss_d: 0.005, loss_g: 11.729\n",
      "[215/300]: loss_d: 0.004, loss_g: 12.266\n",
      "[216/300]: loss_d: 0.005, loss_g: 12.468\n",
      "[217/300]: loss_d: 0.007, loss_g: 11.085\n",
      "[218/300]: loss_d: 0.006, loss_g: 12.206\n",
      "[219/300]: loss_d: 0.005, loss_g: 12.270\n",
      "[220/300]: loss_d: 0.005, loss_g: 11.913\n",
      "[221/300]: loss_d: 0.005, loss_g: 12.214\n",
      "[222/300]: loss_d: 0.004, loss_g: 11.398\n",
      "[223/300]: loss_d: 0.006, loss_g: 11.893\n",
      "[224/300]: loss_d: 0.005, loss_g: 12.007\n",
      "[225/300]: loss_d: 0.006, loss_g: 11.435\n",
      "[226/300]: loss_d: 0.004, loss_g: 11.474\n",
      "[227/300]: loss_d: 0.006, loss_g: 12.666\n",
      "[228/300]: loss_d: 0.005, loss_g: 11.181\n",
      "[229/300]: loss_d: 0.005, loss_g: 11.781\n",
      "[230/300]: loss_d: 0.003, loss_g: 11.835\n",
      "[231/300]: loss_d: 0.006, loss_g: 12.687\n",
      "[232/300]: loss_d: 0.005, loss_g: 11.711\n",
      "[233/300]: loss_d: 0.007, loss_g: 11.444\n",
      "[234/300]: loss_d: 0.006, loss_g: 12.091\n",
      "[235/300]: loss_d: 0.003, loss_g: 11.169\n",
      "[236/300]: loss_d: 0.006, loss_g: 12.325\n",
      "[237/300]: loss_d: 0.005, loss_g: 12.138\n",
      "[238/300]: loss_d: 0.005, loss_g: 11.389\n",
      "[239/300]: loss_d: 0.004, loss_g: 11.986\n",
      "[240/300]: loss_d: 0.006, loss_g: 12.864\n",
      "[241/300]: loss_d: 0.006, loss_g: 12.087\n",
      "[242/300]: loss_d: 0.005, loss_g: 11.370\n",
      "[243/300]: loss_d: 0.003, loss_g: 11.115\n",
      "[244/300]: loss_d: 0.003, loss_g: 11.945\n",
      "[245/300]: loss_d: 0.005, loss_g: 12.831\n",
      "[246/300]: loss_d: 0.006, loss_g: 12.093\n",
      "[247/300]: loss_d: 0.005, loss_g: 12.686\n",
      "[248/300]: loss_d: 0.005, loss_g: 12.461\n",
      "[249/300]: loss_d: 0.005, loss_g: 12.205\n",
      "[250/300]: loss_d: 0.005, loss_g: 12.375\n",
      "[251/300]: loss_d: 0.004, loss_g: 11.523\n",
      "[252/300]: loss_d: 0.003, loss_g: 11.627\n",
      "[253/300]: loss_d: 0.003, loss_g: 12.695\n",
      "[254/300]: loss_d: 0.004, loss_g: 11.935\n",
      "[255/300]: loss_d: 0.005, loss_g: 12.416\n",
      "[256/300]: loss_d: 0.004, loss_g: 13.789\n",
      "[257/300]: loss_d: 0.005, loss_g: 12.796\n",
      "[258/300]: loss_d: 0.003, loss_g: 11.728\n",
      "[259/300]: loss_d: 0.004, loss_g: 14.518\n",
      "[260/300]: loss_d: 0.005, loss_g: 12.895\n",
      "[261/300]: loss_d: 0.004, loss_g: 12.941\n",
      "[262/300]: loss_d: 0.004, loss_g: 13.391\n",
      "[263/300]: loss_d: 0.004, loss_g: 12.598\n",
      "[264/300]: loss_d: 0.004, loss_g: 12.625\n",
      "[265/300]: loss_d: 0.004, loss_g: 11.942\n",
      "[266/300]: loss_d: 0.003, loss_g: 11.852\n",
      "[267/300]: loss_d: 0.003, loss_g: 13.026\n",
      "[268/300]: loss_d: 0.004, loss_g: 13.192\n",
      "[269/300]: loss_d: 0.005, loss_g: 12.911\n",
      "[270/300]: loss_d: 0.006, loss_g: 12.664\n",
      "[271/300]: loss_d: 0.005, loss_g: 12.446\n",
      "[272/300]: loss_d: 0.004, loss_g: 12.462\n",
      "[273/300]: loss_d: 0.004, loss_g: 13.188\n",
      "[274/300]: loss_d: 0.003, loss_g: 12.333\n",
      "[275/300]: loss_d: 0.003, loss_g: 12.860\n",
      "[276/300]: loss_d: 0.004, loss_g: 13.860\n",
      "[277/300]: loss_d: 0.005, loss_g: 12.917\n",
      "[278/300]: loss_d: 0.004, loss_g: 12.542\n",
      "[279/300]: loss_d: 0.004, loss_g: 12.468\n",
      "[280/300]: loss_d: 0.004, loss_g: 12.457\n",
      "[281/300]: loss_d: 0.004, loss_g: 12.150\n",
      "[282/300]: loss_d: 0.004, loss_g: 13.050\n",
      "[283/300]: loss_d: 0.005, loss_g: 12.397\n",
      "[284/300]: loss_d: 0.004, loss_g: 12.876\n",
      "[285/300]: loss_d: 0.004, loss_g: 13.044\n",
      "[286/300]: loss_d: 0.003, loss_g: 12.465\n",
      "[287/300]: loss_d: 0.003, loss_g: 12.659\n",
      "[288/300]: loss_d: 0.003, loss_g: 13.495\n",
      "[289/300]: loss_d: 0.004, loss_g: 13.699\n",
      "[290/300]: loss_d: 0.004, loss_g: 12.663\n",
      "[291/300]: loss_d: 0.003, loss_g: 12.957\n",
      "[292/300]: loss_d: 0.003, loss_g: 12.738\n",
      "[293/300]: loss_d: 0.003, loss_g: 13.002\n",
      "[294/300]: loss_d: 0.004, loss_g: 13.283\n",
      "[295/300]: loss_d: 0.003, loss_g: 12.673\n",
      "[296/300]: loss_d: 0.005, loss_g: 12.647\n",
      "[297/300]: loss_d: 0.004, loss_g: 13.923\n",
      "[298/300]: loss_d: 0.003, loss_g: 12.615\n",
      "[299/300]: loss_d: 0.003, loss_g: 12.316\n",
      "[300/300]: loss_d: 0.004, loss_g: 14.041\n"
     ]
    }
   ],
   "source": [
    "n_epoch = 300\n",
    "for epoch in range(1, n_epoch+1):           \n",
    "    D_losses, G_losses = [], []\n",
    "    for batch_idx, (x, _) in enumerate(train_loader):\n",
    "        D_losses.append(D_train(x))\n",
    "        G_losses.append(G_train(x))\n",
    "\n",
    "    print('[%d/%d]: loss_d: %.3f, loss_g: %.3f' % (\n",
    "            (epoch), n_epoch, torch.mean(torch.FloatTensor(D_losses)), torch.mean(torch.FloatTensor(G_losses))))\n",
    "    \n",
    "    generate_test_image(epoch)"
   ]
  }
 ],
 "metadata": {
  "kernelspec": {
   "display_name": "Python 3",
   "language": "python",
   "name": "python3"
  },
  "language_info": {
   "codemirror_mode": {
    "name": "ipython",
    "version": 3
   },
   "file_extension": ".py",
   "mimetype": "text/x-python",
   "name": "python",
   "nbconvert_exporter": "python",
   "pygments_lexer": "ipython3",
   "version": "3.12.7"
  }
 },
 "nbformat": 4,
 "nbformat_minor": 2
}
